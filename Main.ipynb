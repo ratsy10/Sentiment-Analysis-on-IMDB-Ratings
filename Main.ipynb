{
 "cells": [
  {
   "cell_type": "code",
   "execution_count": 13,
   "id": "d405bcea-5079-4dfc-b3fc-f87fbebb4625",
   "metadata": {},
   "outputs": [
    {
     "name": "stdout",
     "output_type": "stream",
     "text": [
      "                                              Review\n",
      "0  Bromwell High is a cartoon comedy. It ran at t...\n",
      "1  Homelessness (or Houselessness as George Carli...\n",
      "2  Brilliant over-acting by Lesley Ann Warren. Be...\n",
      "3  This is easily the most underrated film inn th...\n",
      "4  This is not the typical Mel Brooks film. It wa...\n",
      "                                              Review\n",
      "0  Story of a man who has unnatural feelings for ...\n",
      "1  Airport '77 starts as a brand new luxury 747 p...\n",
      "2  This film lacked something I couldn't put my f...\n",
      "3  Sorry everyone,,, I know this is supposed to b...\n",
      "4  When I was little my parents took me along to ...\n",
      "                                              Review\n",
      "0  I admit, the great majority of films released ...\n",
      "1  Take a low budget, inexperienced actors doubli...\n",
      "2  Everybody has seen 'Back To The Future,' right...\n",
      "3  Doris Day was an icon of beauty in singing and...\n",
      "4  After a series of silly, fun-loving movies, 19...\n"
     ]
    }
   ],
   "source": [
    "import pandas as pd\n",
    "\n",
    "pos_data = pd.read_csv('C:/Users/Ratsy/Downloads/New folder/Sentiment-Analysis-on-IMDB-Ratings/Dataset/Train/pos.csv', encoding='latin1')\n",
    "neg_data = pd.read_csv('C:/Users/Ratsy/Downloads/New folder/Sentiment-Analysis-on-IMDB-Ratings/Dataset/Train/neg.csv', encoding='latin1')\n",
    "unsup_data = pd.read_csv('C:/Users/Ratsy/Downloads/New folder/Sentiment-Analysis-on-IMDB-Ratings/Dataset/Train/unsup.csv', encoding='latin1')\n",
    "\n",
    "print(pos_data.head())\n",
    "print(neg_data.head())\n",
    "print(unsup_data.head())\n",
    "\n"
   ]
  },
  {
   "cell_type": "code",
   "execution_count": 15,
   "id": "e354fc4c-41f1-4538-b00b-1654216bcdb3",
   "metadata": {},
   "outputs": [
    {
     "name": "stdout",
     "output_type": "stream",
     "text": [
      "                                              Review  label\n",
      "0  Bromwell High is a cartoon comedy. It ran at t...      1\n",
      "1  Homelessness (or Houselessness as George Carli...      1\n",
      "2  Brilliant over-acting by Lesley Ann Warren. Be...      1\n",
      "3  This is easily the most underrated film inn th...      1\n",
      "4  This is not the typical Mel Brooks film. It wa...      1\n",
      "                                              Review\n",
      "0  I admit, the great majority of films released ...\n",
      "1  Take a low budget, inexperienced actors doubli...\n",
      "2  Everybody has seen 'Back To The Future,' right...\n",
      "3  Doris Day was an icon of beauty in singing and...\n",
      "4  After a series of silly, fun-loving movies, 19...\n"
     ]
    }
   ],
   "source": [
    "pos_data['label'] = 1\n",
    "neg_data['label'] = 0\n",
    "\n",
    "labeled_data = pd.concat([pos_data, neg_data], ignore_index=True)\n",
    "\n",
    "print(labeled_data.head())\n",
    "print(unsup_data.head())\n"
   ]
  },
  {
   "cell_type": "code",
   "execution_count": 17,
   "id": "27aede87-aa8a-402a-b2d1-8e4ed67735a2",
   "metadata": {},
   "outputs": [
    {
     "name": "stdout",
     "output_type": "stream",
     "text": [
      "label\n",
      "1    12500\n",
      "0    12500\n",
      "Name: count, dtype: int64\n",
      "<class 'pandas.core.frame.DataFrame'>\n",
      "RangeIndex: 25000 entries, 0 to 24999\n",
      "Data columns (total 2 columns):\n",
      " #   Column  Non-Null Count  Dtype \n",
      "---  ------  --------------  ----- \n",
      " 0   Review  25000 non-null  object\n",
      " 1   label   25000 non-null  int64 \n",
      "dtypes: int64(1), object(1)\n",
      "memory usage: 390.8+ KB\n",
      "None\n",
      "<class 'pandas.core.frame.DataFrame'>\n",
      "RangeIndex: 50000 entries, 0 to 49999\n",
      "Data columns (total 1 columns):\n",
      " #   Column  Non-Null Count  Dtype \n",
      "---  ------  --------------  ----- \n",
      " 0   Review  50000 non-null  object\n",
      "dtypes: object(1)\n",
      "memory usage: 390.8+ KB\n",
      "None\n"
     ]
    }
   ],
   "source": [
    "print(labeled_data['label'].value_counts())\n",
    "print(labeled_data.info())\n",
    "print(unsup_data.info())\n"
   ]
  },
  {
   "cell_type": "code",
   "execution_count": 21,
   "id": "8db4721d-33fa-4038-911c-c55643d4e321",
   "metadata": {},
   "outputs": [
    {
     "name": "stdout",
     "output_type": "stream",
     "text": [
      "                                              Review  label\n",
      "0  bromwell high cartoon comedy ran time program ...      1\n",
      "1  homelessness houselessness george carlin state...      1\n",
      "2  brilliant acting lesley ann warren best dramat...      1\n",
      "3  easily underrated film inn brook cannon sure f...      1\n",
      "4  typical mel brook film much less slapstick mov...      1\n",
      "                                              Review\n",
      "0  admit great majority film released say dozen m...\n",
      "1  take low budget inexperienced actor doubling p...\n",
      "2  everybody seen back future right whether like ...\n",
      "3  doris day icon beauty singing acting warm voic...\n",
      "4  series silly fun loving movie big year doris d...\n"
     ]
    }
   ],
   "source": [
    "import re\n",
    "from nltk.corpus import stopwords\n",
    "from nltk.tokenize import word_tokenize\n",
    "from nltk.stem import WordNetLemmatizer\n",
    "\n",
    "stop_words = set(stopwords.words('english'))\n",
    "lemmatizer = WordNetLemmatizer()\n",
    "\n",
    "def preprocess_text(text):\n",
    "    text = re.sub(r'<.*?>', '', text)\n",
    "    text = re.sub(r'[^a-zA-Z]', ' ', text)\n",
    "    text = text.lower()\n",
    "    tokens = word_tokenize(text)\n",
    "    tokens = [lemmatizer.lemmatize(word) for word in tokens if word not in stop_words]\n",
    "    return ' '.join(tokens)\n",
    "\n",
    "labeled_data['Review'] = labeled_data['Review'].apply(preprocess_text)\n",
    "unsup_data['Review'] = unsup_data['Review'].apply(preprocess_text)\n",
    "\n",
    "print(labeled_data.head())\n",
    "print(unsup_data.head())\n"
   ]
  },
  {
   "cell_type": "code",
   "execution_count": 37,
   "id": "59d6fe0e-effc-46a4-8540-cd5cf383c80e",
   "metadata": {},
   "outputs": [],
   "source": [
    "from sklearn.feature_extraction.text import TfidfVectorizer\n",
    "\n",
    "vectorizer = TfidfVectorizer(max_features=5000)\n",
    "\n",
    "X_train = vectorizer.fit_transform(labeled_data['Review'])\n",
    "\n",
    "X_unsup = vectorizer.transform(unsup_data['Review'])\n"
   ]
  },
  {
   "cell_type": "code",
   "execution_count": 27,
   "id": "f393a862-3d6a-43ff-9303-f0b71f607618",
   "metadata": {},
   "outputs": [],
   "source": [
    "\n",
    "y_train = labeled_data['label']\n"
   ]
  },
  {
   "cell_type": "code",
   "execution_count": 29,
   "id": "f7672d33-6d7d-4248-a0ee-51db8cad843c",
   "metadata": {},
   "outputs": [],
   "source": [
    "from sklearn.model_selection import train_test_split\n",
    "\n",
    "X_train, X_val, y_train, y_val = train_test_split(X_train, y_train, test_size=0.2, random_state=42)\n"
   ]
  },
  {
   "cell_type": "code",
   "execution_count": 31,
   "id": "520c6d17-e5a9-4e39-afe2-98a20b9077ff",
   "metadata": {},
   "outputs": [
    {
     "name": "stdout",
     "output_type": "stream",
     "text": [
      "Accuracy: 0.8848\n",
      "Classification Report:\n",
      "              precision    recall  f1-score   support\n",
      "\n",
      "           0       0.89      0.88      0.88      2485\n",
      "           1       0.88      0.89      0.89      2515\n",
      "\n",
      "    accuracy                           0.88      5000\n",
      "   macro avg       0.88      0.88      0.88      5000\n",
      "weighted avg       0.88      0.88      0.88      5000\n",
      "\n"
     ]
    }
   ],
   "source": [
    "from sklearn.linear_model import LogisticRegression\n",
    "from sklearn.metrics import accuracy_score, classification_report\n",
    "\n",
    "model = LogisticRegression()\n",
    "\n",
    "model.fit(X_train, y_train)\n",
    "\n",
    "y_pred = model.predict(X_val)\n",
    "\n",
    "print(f\"Accuracy: {accuracy_score(y_val, y_pred)}\")\n",
    "print(f\"Classification Report:\\n{classification_report(y_val, y_pred)}\")\n"
   ]
  },
  {
   "cell_type": "code",
   "execution_count": 35,
   "id": "224bfa04-bef0-433d-8a56-ee72432014a1",
   "metadata": {},
   "outputs": [
    {
     "name": "stdout",
     "output_type": "stream",
     "text": [
      "Accuracy: 0.883\n",
      "Classification Report:\n",
      "              precision    recall  f1-score   support\n",
      "\n",
      "           0       0.89      0.87      0.88      2485\n",
      "           1       0.88      0.89      0.88      2515\n",
      "\n",
      "    accuracy                           0.88      5000\n",
      "   macro avg       0.88      0.88      0.88      5000\n",
      "weighted avg       0.88      0.88      0.88      5000\n",
      "\n"
     ]
    },
    {
     "data": {
      "image/png": "[encoded data removed]",
      "text/plain": [
       "<Figure size 640x480 with 2 Axes>"
      ]
     },
     "metadata": {},
     "output_type": "display_data"
    }
   ],
   "source": [
    "import scipy\n",
    "import numpy as np\n",
    "from sklearn.metrics import accuracy_score, classification_report, confusion_matrix\n",
    "import seaborn as sns\n",
    "import matplotlib.pyplot as plt\n",
    "\n",
    "y_unsup_pred = model.predict(X_unsup)\n",
    "\n",
    "X_combined = scipy.sparse.vstack([X_train, X_unsup])\n",
    "y_combined = np.concatenate([y_train, y_unsup_pred])\n",
    "\n",
    "model.fit(X_combined, y_combined)\n",
    "\n",
    "y_pred = model.predict(X_val)\n",
    "print(f\"Accuracy: {accuracy_score(y_val, y_pred)}\")\n",
    "print(f\"Classification Report:\\n{classification_report(y_val, y_pred)}\")\n",
    "\n",
    "cm = confusion_matrix(y_val, y_pred)\n",
    "sns.heatmap(cm, annot=True, fmt='d', cmap='Blues', xticklabels=['Negative', 'Positive'], yticklabels=['Negative', 'Positive'])\n",
    "plt.xlabel('Predicted')\n",
    "plt.ylabel('True')\n",
    "plt.show()\n"
   ]
  },
  {
   "cell_type": "code",
   "execution_count": 39,
   "id": "d6b87bbf-4c4f-4511-83cc-0bbb77f68fad",
   "metadata": {},
   "outputs": [
    {
     "name": "stdout",
     "output_type": "stream",
     "text": [
      "Accuracy: 0.8767298616110711\n",
      "Classification Report:\n",
      "              precision    recall  f1-score   support\n",
      "\n",
      "           0       0.88      0.87      0.88     12501\n",
      "           1       0.87      0.88      0.88     12501\n",
      "\n",
      "    accuracy                           0.88     25002\n",
      "   macro avg       0.88      0.88      0.88     25002\n",
      "weighted avg       0.88      0.88      0.88     25002\n",
      "\n"
     ]
    },
    {
     "data": {
      "image/png": "[encoded data removed]",
      "text/plain": [
       "<Figure size 640x480 with 2 Axes>"
      ]
     },
     "metadata": {},
     "output_type": "display_data"
    }
   ],
   "source": [
    "import pandas as pd\n",
    "from sklearn.metrics import accuracy_score, classification_report, confusion_matrix\n",
    "import seaborn as sns\n",
    "import matplotlib.pyplot as plt\n",
    "\n",
    "# Load the positive and negative test data files\n",
    "pos_data = pd.read_csv('C:/Users/Ratsy/Downloads/New folder/Sentiment-Analysis-on-IMDB-Ratings/Dataset/Test/pos.csv', encoding='latin1', header=None, names=['Review'])\n",
    "neg_data = pd.read_csv('C:/Users/Ratsy/Downloads/New folder/Sentiment-Analysis-on-IMDB-Ratings/Dataset/Test/neg.csv', encoding='latin1', header=None, names=['Review'])\n",
    "\n",
    "# Add labels (1 for positive, 0 for negative)\n",
    "pos_data['Sentiment'] = 1\n",
    "neg_data['Sentiment'] = 0\n",
    "\n",
    "# Combine the positive and negative data\n",
    "test_df = pd.concat([pos_data, neg_data])\n",
    "\n",
    "# Preprocess the test data using the same preprocessing function\n",
    "test_df['Review'] = test_df['Review'].apply(preprocess_text)\n",
    "\n",
    "# Transform the test data using the trained vectorizer\n",
    "X_test = vectorizer.transform(test_df['Review'])\n",
    "\n",
    "# Get the true labels\n",
    "y_test = test_df['Sentiment']\n",
    "\n",
    "# Make predictions using the trained model\n",
    "y_pred = model.predict(X_test)\n",
    "\n",
    "# Evaluate the model's performance\n",
    "print(f\"Accuracy: {accuracy_score(y_test, y_pred)}\")\n",
    "print(f\"Classification Report:\\n{classification_report(y_test, y_pred)}\")\n",
    "\n",
    "# Confusion Matrix\n",
    "cm = confusion_matrix(y_test, y_pred)\n",
    "sns.heatmap(cm, annot=True, fmt='d', cmap='Blues', xticklabels=['Negative', 'Positive'], yticklabels=['Negative', 'Positive'])\n",
    "plt.xlabel('Predicted')\n",
    "plt.ylabel('True')\n",
    "plt.show()\n"
   ]
  },
  {
   "cell_type": "code",
   "execution_count": 41,
   "id": "e49218ce-7e49-47b9-b79a-9ba49a24d274",
   "metadata": {},
   "outputs": [
    {
     "data": {
      "text/plain": [
       "['vectorizer.pkl']"
      ]
     },
     "execution_count": 41,
     "metadata": {},
     "output_type": "execute_result"
    }
   ],
   "source": [
    "import joblib\n",
    "\n",
    "# Save the model and vectorizer\n",
    "joblib.dump(model, 'sentiment_model.pkl')\n",
    "joblib.dump(vectorizer, 'vectorizer.pkl')\n"
   ]
  },
  {
   "cell_type": "code",
   "execution_count": null,
   "id": "c02d39f4-40a4-4199-abbf-27ef3d75158c",
   "metadata": {},
   "outputs": [],
   "source": []
  }
 ],
 "metadata": {
  "kernelspec": {
   "display_name": "Python [conda env:chicken]",
   "language": "python",
   "name": "conda-env-chicken-py"
  },
  "language_info": {
   "codemirror_mode": {
    "name": "ipython",
    "version": 3
   },
   "file_extension": ".py",
   "mimetype": "text/x-python",
   "name": "python",
   "nbconvert_exporter": "python",
   "pygments_lexer": "ipython3",
   "version": "3.10.16"
  }
 },
 "nbformat": 4,
 "nbformat_minor": 5
}
